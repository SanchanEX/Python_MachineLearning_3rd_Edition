{
 "cells": [
  {
   "cell_type": "code",
   "execution_count": 2,
   "metadata": {},
   "outputs": [
    {
     "data": {
      "text/plain": [
       "b'Hello'"
      ]
     },
     "execution_count": 2,
     "metadata": {},
     "output_type": "execute_result"
    }
   ],
   "source": [
    "\"Hello\".encode(\"utf-8\")"
   ]
  },
  {
   "cell_type": "code",
   "execution_count": 3,
   "metadata": {},
   "outputs": [
    {
     "name": "stdout",
     "output_type": "stream",
     "text": [
      "これは関数\n"
     ]
    }
   ],
   "source": [
    "#関数\n",
    "def some_f(something):\n",
    "  print(something)\n",
    "\n",
    "some_f(\"これは関数\")"
   ]
  },
  {
   "cell_type": "code",
   "execution_count": 4,
   "metadata": {},
   "outputs": [
    {
     "name": "stdout",
     "output_type": "stream",
     "text": [
      "これはクラス\n"
     ]
    }
   ],
   "source": [
    "#クラス\n",
    "class some_class:\n",
    "  def __init__(self, something):\n",
    "    self.something = something\n",
    "\n",
    "  def some_f(self):\n",
    "    print(self.something)\n",
    "    \n",
    "some_f(\"これはクラス\")"
   ]
  },
  {
   "cell_type": "code",
   "execution_count": 5,
   "metadata": {},
   "outputs": [
    {
     "name": "stdout",
     "output_type": "stream",
     "text": [
      "some_value\n"
     ]
    }
   ],
   "source": [
    "#クラスとインスタンス\n",
    "class some_class:\n",
    "  def __init__(self, something):\n",
    "    self.something = something\n",
    "\n",
    "  def some_f(self):\n",
    "    print(self.something)\n",
    "\n",
    "instance = some_class(\"some_value\")\n",
    "instance.some_f()"
   ]
  },
  {
   "cell_type": "code",
   "execution_count": 6,
   "metadata": {},
   "outputs": [
    {
     "name": "stdout",
     "output_type": "stream",
     "text": [
      "これはメソッド１です\n",
      "これはメソッド２です\n"
     ]
    }
   ],
   "source": [
    "#クラスとメソッド\n",
    "class some_class:\n",
    "  def __init__(self, something):\n",
    "    self.something = something\n",
    "\n",
    "  def some_f01(self): #メソッド１\n",
    "    print(self.something)\n",
    "\n",
    "  def some_f02(self): #メソッド２\n",
    "    print(self.something)\n",
    "\n",
    "instance01 = some_class(\"これはメソッド１です\")\n",
    "instance01.some_f01()\n",
    "\n",
    "instance02 = some_class(\"これはメソッド２です\")\n",
    "instance02.some_f02()"
   ]
  },
  {
   "cell_type": "markdown",
   "metadata": {},
   "source": [
    "## selfの役割\n",
    "selfはクラスの中で用いられる．selfとは，「インスタンス自身」，「メソッドの仮引数」と呼ばれる．インスタンスを新たに定義すれば，selfはそのパラメータとして扱われる．"
   ]
  },
  {
   "cell_type": "markdown",
   "metadata": {},
   "source": [
    "## 初期化の意味\n",
    "\n",
    "### スコープ\n",
    "##### インスタンスや変数の影響できる範囲のこと．識別子が有効な範囲を制限する仕組み．\n",
    "---\n",
    "### 変数（インスタンス）の寿命\n",
    "##### メモリを永遠に消費し続けないように自動的に変数やインスタンスの中身を消去する仕組み．\n",
    "- グローバル変数はプログラム実行中は有効．\n",
    "- ローカル変数は関数の中で寿命が尽きる．つまり，関数の中で宣言された変数の寿命は関数の中だけ．\n",
    "---\n",
    "### ヒープ領域（ヒープメモリ）\n",
    "#### 動的に確保と解放を繰り返せるメモリ領域のこと．つまり，データの仮置き場，臨時の作業台のようなイメージ．\n",
    "---\n",
    "### スタック領域（スタックメモリ）\n",
    "#### 確保した順番とは逆の順番で解放するメモリ領域．例えば，A -> B -> Cと確保すれば，解放はC -> B -> Aの順番で行われる．\n",
    "---\n",
    "## 初期化をしないと，インスタンスを新たに生成しても，古いインスタンスが残るため，新しいインスタンス（変数）が反映されない．Pythonは変数を作成するときに，自動で初期化している．"
   ]
  },
  {
   "cell_type": "markdown",
   "metadata": {},
   "source": [
    "## __init__の役割\n",
    "__init__はクラスの中で用いられる．__init__は，コンストラクタと呼ばれる初期化のためのメソッド（関数）．インスタンス化を行う際に必ず最初に呼び出される特殊なメソッド．オブジェクト生成（インスタンス生成）のついでにデータの初期化を行うもの．"
   ]
  },
  {
   "cell_type": "code",
   "execution_count": 7,
   "metadata": {},
   "outputs": [],
   "source": [
    "# コンストラクタ（__init__）\n",
    "class some_class:\n",
    "  def __init__(self, something): #コンストラクタ\n",
    "    self.something = something"
   ]
  },
  {
   "cell_type": "code",
   "execution_count": 22,
   "metadata": {},
   "outputs": [
    {
     "name": "stdout",
     "output_type": "stream",
     "text": [
      "名前： Yarita\n",
      "年齢： 20\n",
      "身長： 175\n",
      "体重： 63\n",
      "趣味： dance, guitar, boxing\n"
     ]
    }
   ],
   "source": [
    "class my_status:\n",
    "  def __init__(self, age, name, height, weight, hobby):\n",
    "    self.age = age\n",
    "    self.name = name\n",
    "    self.height = height\n",
    "    self.weight = weight\n",
    "    self.hobby = hobby\n",
    "  \n",
    "  def print_name(self):\n",
    "    print(self.name)\n",
    "  \n",
    "  def print_age(self):\n",
    "    print(self.age)\n",
    "\n",
    "  def print_height(self):\n",
    "    print(self.height)\n",
    "\n",
    "  def print_weight(self):\n",
    "    print(self.weight)\n",
    "\n",
    "  def print_hobby(self):\n",
    "    print(self.hobby)\n",
    "\n",
    "  def main(self):\n",
    "    print(\"名前：\", self.name)\n",
    "    print(\"年齢：\", self.age)\n",
    "    print(\"身長：\", self.height)\n",
    "    print(\"体重：\", self.weight)\n",
    "    print(\"趣味：\", self.hobby)\n",
    "\n",
    "my_info = my_status(20, \"Yarita\", 175, 63, \"dance, guitar, boxing\")\n",
    "\n",
    "#my_info.print_name()\n",
    "my_info.main()"
   ]
  },
  {
   "cell_type": "code",
   "execution_count": null,
   "metadata": {},
   "outputs": [],
   "source": []
  }
 ],
 "metadata": {
  "interpreter": {
   "hash": "463e63e35f7cb34f5d88b04eaa9b3a16ac2b5692d43f0849e4b981ac2cc93bdc"
  },
  "kernelspec": {
   "display_name": "Python 3.8.5 32-bit",
   "language": "python",
   "name": "python3"
  },
  "language_info": {
   "codemirror_mode": {
    "name": "ipython",
    "version": 3
   },
   "file_extension": ".py",
   "mimetype": "text/x-python",
   "name": "python",
   "nbconvert_exporter": "python",
   "pygments_lexer": "ipython3",
   "version": "3.8.5"
  },
  "orig_nbformat": 4
 },
 "nbformat": 4,
 "nbformat_minor": 2
}
