{
 "cells": [
  {
   "cell_type": "code",
   "execution_count": 50,
   "metadata": {},
   "outputs": [],
   "source": [
    "import numpy as np\n",
    "import os\n",
    "import pandas as pd\n",
    "from IPython.display import display\n",
    "import matplotlib.pyplot as plt\n",
    "import japanize_matplotlib"
   ]
  },
  {
   "cell_type": "code",
   "execution_count": 51,
   "metadata": {},
   "outputs": [],
   "source": [
    "class Perceptron(object):\n",
    "\n",
    "  \"\"\"\n",
    "  パラメータ\n",
    "  ---------\n",
    "  eta : float（学習率：0.0 < eta >= 1.0）\n",
    "  n_iter : int（訓練データの訓練回数）\n",
    "  random_state : int（重みを初期化するための乱数シード）\n",
    "\n",
    "  属性\n",
    "  ---------\n",
    "  w_ : １次元配列（適合後の重み）\n",
    "  errors_ : リスト（各エポックでの誤分類の数）\n",
    "  \"\"\"\n",
    "\n",
    "  def __init__(self, eta=0.01, n_iter=50, random_state=1):\n",
    "    self.eta = eta\n",
    "    self.n_iter = n_iter\n",
    "    self.random_state = random_state\n",
    "\n",
    "    #訓練データに適合させる関数\n",
    "  def fit(self, X, y):\n",
    "\n",
    "    \"\"\"\n",
    "    パラメータ\n",
    "    ---------\n",
    "    X : {配列のようなデータ構造}, shape = [n_examples, n_features], （訓練データ）\n",
    "        n_examplesは「訓練データの個数」, n_featuresは「特徴量の個数」\n",
    "    \n",
    "    y : 配列のようなデータ構造, shape = [n_example], （目的変数）\n",
    "\n",
    "    戻り値\n",
    "    ---------\n",
    "    self : object\n",
    "    \"\"\"\n",
    "\n",
    "    rgen = np.random.RandomState(self.random_state) #Numpyの乱数生成器\n",
    "    self.w_ = rgen.normal(loc = 0.0, scale = 0.01, size = 1 + X.shape[1])\n",
    "    self.errors_ = []\n",
    "\n",
    "    for _ in range(self.n_iter): #訓練回数分まで訓練データを反復\n",
    "      errors = 0\n",
    "      for xi, target in zip(X, y): #各訓練データで重みを更新\n",
    "        update = self.eta * (target - self.predict(xi))\n",
    "        # 重み(w1, ... , wm)の更新\n",
    "        self.w_[1:] += update * xi\n",
    "        # 重み(w0)の更新\n",
    "        self.w_[0] += update\n",
    "        # 重みの更新が0でない場合は誤分類としてカウント\n",
    "        errors += int(update != 0.0)\n",
    "      \n",
    "      #反復ごとの誤差を格納\n",
    "      self.errors_.append(errors)\n",
    "    return self\n",
    "\n",
    "  def net_input(self, X):\n",
    "    #総入力を計算\n",
    "    return np.dot(X, self.w_[1:]) + self.w_[0]\n",
    "\n",
    "  def predict(self, X):\n",
    "    #１ステップ後のクラスラベルを返す\n",
    "    return np.where(self.net_input(X) >= 0.0, 1, -1)"
   ]
  },
  {
   "cell_type": "code",
   "execution_count": 52,
   "metadata": {},
   "outputs": [
    {
     "data": {
      "text/plain": [
       "0.0"
      ]
     },
     "execution_count": 52,
     "metadata": {},
     "output_type": "execute_result"
    }
   ],
   "source": [
    "v1 = np.array([1, 2, 3])\n",
    "v2 = 0.5 * v1\n",
    "np.arccos(v1.dot(v2) / (np.linalg.norm(v1) * np.linalg.norm(v2)))"
   ]
  },
  {
   "cell_type": "code",
   "execution_count": 53,
   "metadata": {},
   "outputs": [
    {
     "data": {
      "text/html": [
       "<div>\n",
       "<style scoped>\n",
       "    .dataframe tbody tr th:only-of-type {\n",
       "        vertical-align: middle;\n",
       "    }\n",
       "\n",
       "    .dataframe tbody tr th {\n",
       "        vertical-align: top;\n",
       "    }\n",
       "\n",
       "    .dataframe thead th {\n",
       "        text-align: right;\n",
       "    }\n",
       "</style>\n",
       "<table border=\"1\" class=\"dataframe\">\n",
       "  <thead>\n",
       "    <tr style=\"text-align: right;\">\n",
       "      <th></th>\n",
       "      <th>0</th>\n",
       "      <th>1</th>\n",
       "      <th>2</th>\n",
       "      <th>3</th>\n",
       "      <th>4</th>\n",
       "    </tr>\n",
       "  </thead>\n",
       "  <tbody>\n",
       "    <tr>\n",
       "      <th>0</th>\n",
       "      <td>5.1</td>\n",
       "      <td>3.5</td>\n",
       "      <td>1.4</td>\n",
       "      <td>0.2</td>\n",
       "      <td>Iris-setosa</td>\n",
       "    </tr>\n",
       "    <tr>\n",
       "      <th>1</th>\n",
       "      <td>4.9</td>\n",
       "      <td>3.0</td>\n",
       "      <td>1.4</td>\n",
       "      <td>0.2</td>\n",
       "      <td>Iris-setosa</td>\n",
       "    </tr>\n",
       "    <tr>\n",
       "      <th>2</th>\n",
       "      <td>4.7</td>\n",
       "      <td>3.2</td>\n",
       "      <td>1.3</td>\n",
       "      <td>0.2</td>\n",
       "      <td>Iris-setosa</td>\n",
       "    </tr>\n",
       "    <tr>\n",
       "      <th>3</th>\n",
       "      <td>4.6</td>\n",
       "      <td>3.1</td>\n",
       "      <td>1.5</td>\n",
       "      <td>0.2</td>\n",
       "      <td>Iris-setosa</td>\n",
       "    </tr>\n",
       "    <tr>\n",
       "      <th>4</th>\n",
       "      <td>5.0</td>\n",
       "      <td>3.6</td>\n",
       "      <td>1.4</td>\n",
       "      <td>0.2</td>\n",
       "      <td>Iris-setosa</td>\n",
       "    </tr>\n",
       "  </tbody>\n",
       "</table>\n",
       "</div>"
      ],
      "text/plain": [
       "     0    1    2    3            4\n",
       "0  5.1  3.5  1.4  0.2  Iris-setosa\n",
       "1  4.9  3.0  1.4  0.2  Iris-setosa\n",
       "2  4.7  3.2  1.3  0.2  Iris-setosa\n",
       "3  4.6  3.1  1.5  0.2  Iris-setosa\n",
       "4  5.0  3.6  1.4  0.2  Iris-setosa"
      ]
     },
     "metadata": {},
     "output_type": "display_data"
    }
   ],
   "source": [
    "\"\"\"オンラインで作業する場合\n",
    "s = os.path.join(\"https://archive.ics.uci.edu\", \"ml\", \"machine-learning-databases\", \"iris\", \"iris.data\")\n",
    "print(\"URL : \", s)\n",
    "\n",
    "df = pd.read_csv(s, header=None, encoding=\"utf-8\")\n",
    "display(df.tail())\n",
    "\"\"\"\n",
    "\n",
    "#localで作業する場合\n",
    "df = pd.read_csv('c:\\\\Users\\\\admin\\\\Documents\\\\book\\\\python-machine-learning-book-3rd-edition\\\\src\\\\iris.data', header=None)\n",
    "display(df.head())"
   ]
  },
  {
   "cell_type": "code",
   "execution_count": 54,
   "metadata": {},
   "outputs": [
    {
     "data": {
      "text/plain": [
       "'c:\\\\Users\\\\admin\\\\Documents\\\\book\\\\python-machine-learning-book-3rd-edition\\\\src'"
      ]
     },
     "execution_count": 54,
     "metadata": {},
     "output_type": "execute_result"
    }
   ],
   "source": [
    "pwd"
   ]
  },
  {
   "cell_type": "code",
   "execution_count": 55,
   "metadata": {},
   "outputs": [
    {
     "data": {
      "image/png": "[encoded data removed]",
      "text/plain": [
       "<Figure size 432x288 with 1 Axes>"
      ]
     },
     "metadata": {
      "needs_background": "light"
     },
     "output_type": "display_data"
    }
   ],
   "source": [
    "#1-100行目の目的変数の抽出\n",
    "y = df.iloc[0:100, 4].values\n",
    "#Iris-setosaを-1, Iris-versicolorを1に変換\n",
    "y = np.where(y == \"Iris-setosa\", -1, 1)\n",
    "\n",
    "#1-100行目の1, 3列目の抽出\n",
    "X = df.iloc[1:100, [0, 2]].values\n",
    "\n",
    "#品種のsetosaのプロット（赤の◯）\n",
    "plt.scatter(X[:50, 0], X[:50, 1], color=\"red\", marker=\"o\", label=\"setosa\")\n",
    "#品種versicolorのプロット（青の✕）\n",
    "plt.scatter(X[50:100, 0], X[50:100, 1], color=\"blue\", marker=\"x\", label=\"versicolor\")\n",
    "plt.xlabel(\"sepal length(がく) [cm]\")\n",
    "plt.ylabel(\"petal length(花びら) [cm]\")\n",
    "#凡例の表示\n",
    "plt.legend(loc=\"upper left\")\n",
    "plt.show()"
   ]
  },
  {
   "cell_type": "code",
   "execution_count": 56,
   "metadata": {},
   "outputs": [
    {
     "data": {
      "image/png": "[encoded data removed]",
      "text/plain": [
       "<Figure size 432x288 with 1 Axes>"
      ]
     },
     "metadata": {
      "needs_background": "light"
     },
     "output_type": "display_data"
    }
   ],
   "source": [
    "#パーセプトロンのインスタンス化（変数化）\n",
    "ppn = Perceptron(eta=0.1, n_iter=10)\n",
    "#訓練データへのモデルの適合\n",
    "ppn.fit(X, y)\n",
    "#エポック(最大回数)と誤分類の関係を表す折れ線グラフをプロット\n",
    "plt.plot(range(1, len(ppn.errors_) + 1), ppn.errors_, marker=\"o\")\n",
    "plt.xlabel(\"Epochs(最大回数)\")\n",
    "plt.ylabel(\"Number of updates\")\n",
    "plt.show()"
   ]
  },
  {
   "cell_type": "code",
   "execution_count": null,
   "metadata": {},
   "outputs": [],
   "source": []
  }
 ],
 "metadata": {
  "interpreter": {
   "hash": "ef7f9a8012d9131766e31894c279374cc63c73121ed4db3b9e67a294a4bf0e74"
  },
  "kernelspec": {
   "display_name": "Python 3.7.6 ('base')",
   "language": "python",
   "name": "python3"
  },
  "language_info": {
   "codemirror_mode": {
    "name": "ipython",
    "version": 3
   },
   "file_extension": ".py",
   "mimetype": "text/x-python",
   "name": "python",
   "nbconvert_exporter": "python",
   "pygments_lexer": "ipython3",
   "version": "3.7.6"
  },
  "orig_nbformat": 4
 },
 "nbformat": 4,
 "nbformat_minor": 2
}
